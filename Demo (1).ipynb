{
  "cells": [
    {
      "cell_type": "code",
      "source": [
        "import os\n",
        "import openai\n",
        "import langchain\n",
        "import pypdf\n",
        "import pickle\n",
        "from llama_index import download_loader\n",
        "from langchain.llms import AzureOpenAI\n",
        "from langchain.document_loaders import PyPDFLoader,CSVLoader\n",
        "from langchain.document_loaders import UnstructuredURLLoader\n",
        "from langchain.docstore.document import Document\n",
        "from langchain.document_loaders import DirectoryLoader\n",
        "from langchain.vectorstores import FAISS\n",
        "from langchain.embeddings.openai import OpenAIEmbeddings\n",
        "from langchain.text_splitter import RecursiveCharacterTextSplitter\n",
        "\n",
        "from langchain.chat_models import AzureChatOpenAI\n",
        "from langchain.text_splitter import CharacterTextSplitter\n",
        "from langchain.document_loaders import UnstructuredHTMLLoader\n",
        "from langchain.chains import ConversationalRetrievalChain\n",
        "\n",
        "# Constants\n",
        "BASE_URL = \"https://gpt-demo1.openai.azure.com\"\n",
        "API_TYPE = \"azure\"\n",
        "API_VERSION = \"2023-03-15-preview\"\n",
        "DEPLOYMENT_NAME = \"GPT35-Demo1\" #other names: \"text-davinci-003\"\n",
        "MODEL_NAME = \"gpt-35-turbo\" #other names: \"text-davinci-003\"\n",
        "API_FILE = \"/home/azureuser/cloudfiles/code/keys/openai_key.txt\""
      ],
      "outputs": [],
      "execution_count": 43,
      "metadata": {
        "gather": {
          "logged": 1683029139270
        }
      }
    },
    {
      "cell_type": "code",
      "source": [
        "openai.api_type = \"azure\"\n",
        "openai.api_base = \"https://gpt-demo1.openai.azure.com/\"\n",
        "openai.api_version = \"2022-12-01\"\n",
        "\n",
        "# openai.api_key = os.getenv(\"OPENAI_API_KEY\")\n",
        "\n",
        "with open(\"/home/azureuser/cloudfiles/code/keys/openai_key.txt\", 'r') as file:\n",
        "   api_key = file.read().replace('\\n', '')\n",
        "\n",
        "openai.api_key = api_key\n",
        "os.environ[\"OPENAI_API_KEY\"] = api_key\n",
        "os.environ[\"AZURE_OPENAI_API_KEY\"] = api_key\n",
        "os.environ[\"AZURE_OPENAI_ENDPOINT\"] = \"https://gpt-demo1.openai.azure.com/\"\n",
        "\n",
        "API_KEY = os.getenv(\"AZURE_OPENAI_API_KEY\") \n",
        "RESOURCE_ENDPOINT = os.getenv(\"AZURE_OPENAI_ENDPOINT\") \n",
        "\n",
        "os.environ[\"OPENAI_ENGINES\"] = \"GPT-35-Demo1\"\n",
        "os.environ[\"OPENAI_EMBEDDINGS_ENGINE_DOC\"] = \"text-embedding-ada\"\n",
        "os.environ[\"OPENAI_EMBEDDINGS_ENGINE_QUERY\"] = \"text-embedding-ada\"\n",
        "os.environ[\"OPENAI_API_BASE\"] = \"https://gpt-demo1.openai.azure.com\"\n",
        "os.environ[\"OPENAI_ENGINES\"] = \"GPT35-Demo1\"\n",
        "os.environ[\"OPENAI_API_VERSION\"] = \"2023-03-15-preview\"\n"
      ],
      "outputs": [],
      "execution_count": 44,
      "metadata": {
        "jupyter": {
          "source_hidden": false,
          "outputs_hidden": false
        },
        "nteract": {
          "transient": {
            "deleting": false
          }
        },
        "gather": {
          "logged": 1683029141464
        }
      }
    },
    {
      "cell_type": "code",
      "source": [
        "def gpt_init():\n",
        "    #llm = AzureOpenAI(model_name=MODEL_NAME)\n",
        "    #llm = ChatOpenAI(temperature=0.7, model_name=MODEL_NAME, engine=DEPLOYMENT_NAME)\n",
        "    #llm.deployment_name = DEPLOYMENT_NAME\n",
        "    #llm.openai_api_base = BASE_URL\n",
        "    #llm.openai_api_key = os.getenv(\"OPENAI_API_KEY\")\n",
        "    #llm.max_tokens = 512\n",
        "\n",
        "    model = AzureChatOpenAI(\n",
        "        openai_api_base=BASE_URL,\n",
        "        openai_api_version=API_VERSION,\n",
        "        deployment_name=DEPLOYMENT_NAME,\n",
        "        openai_api_key=API_KEY,\n",
        "        openai_api_type = API_TYPE,\n",
        "    )\n",
        "    return model"
      ],
      "outputs": [],
      "execution_count": 45,
      "metadata": {
        "jupyter": {
          "source_hidden": false,
          "outputs_hidden": false
        },
        "nteract": {
          "transient": {
            "deleting": false
          }
        },
        "gather": {
          "logged": 1683029144803
        }
      }
    },
    {
      "cell_type": "code",
      "source": [
        "question = \"What is physicians brain digital twin?\"\n",
        "#llm = OpenAI(model_name=\"text-davinci-003\",temperature=0.9)\n",
        "\n",
        "llm = AzureOpenAI(deployment_name=\"text-davinci-003\", model_name=\"text-davinci-003\")\n",
        "#print(llm(question))\n",
        "\n",
        "#llm = ChatOpenAI(temperature=0,model_name=\"gpt-4\")\n",
        "\n",
        "\n",
        "'''\n",
        "#pdf loader\n",
        "loader = PyPDFLoader(\"database/cisco_1.pdf\")\n",
        "pages = loader.load_and_split()\n",
        "print(pages)\n",
        "\n",
        "#text loader\n",
        "loader = DirectoryLoader('database', glob=\"**/*.txt\")\n",
        "pages = loader.load()\n",
        "#print(pages)\n",
        "\n",
        "#csv loader\n",
        "loader = CSVLoader(file_path='database/GrammarFile.csv')\n",
        "pages = loader.load()\n",
        "data = [Document(page_content=str(pages))]\n",
        "\n",
        "#html loader\n",
        "loader = UnstructuredHTMLLoader(\"Users/sri_raguram/database/cisco2023-6.pdf\")\n",
        "data = loader.load()\n",
        "\n",
        "\n",
        "\n",
        "\n",
        "\n",
        "'''\n",
        "\n",
        "#URL Loader\n",
        "urls = [\n",
        "    \"https://www.dissentmagazine.org/online_articles/russia-war-with-no-end\"\n",
        "]\n",
        "loader = UnstructuredURLLoader(urls=urls)\n",
        "pages = loader.load()\n",
        "\n",
        "\n",
        "\n",
        "\n",
        "merged_db = FAISS.from_documents([Document(page_content=\" \")], OpenAIEmbeddings(model=\"text-embedding-ada-002\"))\n",
        "\n",
        "search_indices = []\n",
        "for i, chunk in enumerate(pages):\n",
        "    data = [Document(page_content=str(chunk))]\n",
        "    var_name = f\"search_index_{i}\"\n",
        "    locals()[var_name] = FAISS.from_documents(data, OpenAIEmbeddings(model=\"text-embedding-ada-002\"))\n",
        "    search_indices.append(locals()[var_name])\n",
        "    #merged_db.merge_from(locals()[var_name])\n",
        "\n",
        "\n",
        "for db in search_indices:\n",
        "    merged_db.merge_from(db)\n",
        "\n",
        "embeddings = OpenAIEmbeddings()\n",
        "with open(\"vectorstore.pkl\", \"wb\") as f:\n",
        "        pickle.dump(merged_db, f)\n",
        "\n",
        "with open(\"vectorstore.pkl\", \"rb\") as f:\n",
        "  vectorstore = pickle.load(f)\n",
        "\n",
        "while True:\n",
        "    query = input(\"Enter Prompt: \")\n",
        "    qa = ConversationalRetrievalChain.from_llm(AzureChatOpenAI(deployment_name=\"GPT35-Demo1\", model_name=\"gpt-35-turbo\", temperature=0), vectorstore.as_retriever())\n",
        "    response = qa({\"question\": query, \"chat_history\": \"\"})\n",
        "    print(response[\"answer\"])\n"
      ],
      "outputs": [
        {
          "output_type": "stream",
          "name": "stdout",
          "text": "USING API_BASE: \nhttps://gpt-demo1.openai.azure.com\nThe article was published on April 28, 2023.\nThe author is Sasha de Vogel.\n"
        }
      ],
      "execution_count": 4,
      "metadata": {
        "jupyter": {
          "source_hidden": false,
          "outputs_hidden": false
        },
        "nteract": {
          "transient": {
            "deleting": false
          }
        },
        "gather": {
          "logged": 1683012215553
        }
      }
    },
    {
      "cell_type": "code",
      "source": [],
      "outputs": [],
      "execution_count": null,
      "metadata": {
        "jupyter": {
          "source_hidden": false,
          "outputs_hidden": false
        },
        "nteract": {
          "transient": {
            "deleting": false
          }
        }
      }
    },
    {
      "cell_type": "code",
      "source": [
        "type_input = input(\"Enter Document Type(pdf,txt,csv,html): \").lower()\n",
        "if type_input == \"pdf\":\n",
        "    loader = PyPDFLoader(\"database/Cisco_Sample.pdf\")\n",
        "    pages = loader.load_and_split()\n",
        "elif type_input == \"txt\":\n",
        "    loader = DirectoryLoader('database', glob=\"**/*.txt\")\n",
        "    pages = loader.load()\n",
        "elif type_input == \"csv\":\n",
        "    loader = CSVLoader(file_path='database/GrammarFile.csv')\n",
        "    data = loader.load()\n",
        "    pages = [Document(page_content=str(data))]\n",
        "elif type_input == \"html\":\n",
        "    loader = UnstructuredHTMLLoader(\"database/sample.html\")\n",
        "    pages = loader.load()\n",
        "else:\n",
        "    print(\"Choose Appropriate Document Type!\")\n",
        "while True:\n",
        "    query_input = input(\"Enter Prompt: \")\n",
        "    llm = AzureOpenAI(deployment_name=\"text-davinci-003\", model_name=\"text-davinci-003\")\n",
        "    print(\"ChatGPT without Source!\")\n",
        "    print(\"-------------------------------------------------------------\")\n",
        "    print(llm(query_input))\n",
        "    print(\"-------------------------------------------------------------\")\n",
        "    embeddings = OpenAIEmbeddings()\n",
        "    vectorstore = FAISS.from_documents(pages, embeddings)\n",
        "    with open(\"vectorstore.pkl\", \"wb\") as f:\n",
        "            pickle.dump(vectorstore, f)\n",
        "    qa = ConversationalRetrievalChain.from_llm(AzureChatOpenAI(deployment_name=\"GPT35-Demo1\", model_name=\"gpt-35-turbo\", temperature=0), vectorstore.as_retriever())\n",
        "    response = qa({\"question\": query_input, \"chat_history\": \"\"})\n",
        "    print(\"ChatGPT without Source!\")\n",
        "    print(\"-------------------------------------------------------------\")\n",
        "    print(response[\"answer\"])\n",
        "    print(\"-------------------------------------------------------------\")\n",
        "\n",
        "\n",
        "\n",
        "\n",
        "\n",
        "\n"
      ],
      "outputs": [],
      "execution_count": 1,
      "metadata": {
        "jupyter": {
          "source_hidden": false,
          "outputs_hidden": false
        },
        "nteract": {
          "transient": {
            "deleting": false
          }
        },
        "gather": {
          "logged": 1682659803509
        }
      }
    },
    {
      "cell_type": "code",
      "source": [
        "\n",
        "!pip install pdfminer"
      ],
      "outputs": [
        {
          "output_type": "stream",
          "name": "stdout",
          "text": "Collecting pdfminer\n  Using cached pdfminer-20191125-py3-none-any.whl\nRequirement already satisfied: pycryptodome in /anaconda/envs/azureml_py38/lib/python3.8/site-packages (from pdfminer) (3.17)\nInstalling collected packages: pdfminer\nSuccessfully installed pdfminer-20191125\n"
        }
      ],
      "execution_count": 12,
      "metadata": {
        "jupyter": {
          "source_hidden": false,
          "outputs_hidden": false
        },
        "nteract": {
          "transient": {
            "deleting": false
          }
        }
      }
    },
    {
      "cell_type": "code",
      "source": [
        "question = \"What is physicians brain digital twin?\"\n",
        "#llm = OpenAI(model_name=\"text-davinci-003\",temperature=0.9)\n",
        "\n",
        "llm = AzureOpenAI(deployment_name=\"text-davinci-003\", model_name=\"text-davinci-003\")\n",
        "#print(llm(question))\n",
        "\n",
        "#llm = ChatOpenAI(temperature=0,model_name=\"gpt-4\")\n",
        "\n",
        "\n",
        "'''\n",
        "#pdf loader\n",
        "loader = PyPDFLoader(\"database/cisco_1.pdf\")\n",
        "pages = loader.load_and_split()\n",
        "print(pages)\n",
        "\n",
        "#text loader\n",
        "loader = DirectoryLoader('database', glob=\"**/*.txt\")\n",
        "pages = loader.load()\n",
        "#print(pages)\n",
        "\n",
        "#csv loader\n",
        "loader = CSVLoader(file_path='database/GrammarFile.csv')\n",
        "pages = loader.load()\n",
        "data = [Document(page_content=str(pages))]\n",
        "\n",
        "#html loader\n",
        "loader = UnstructuredHTMLLoader(\"Users/sri_raguram/database/cisco2023-6.pdf\")\n",
        "data = loader.load()\n",
        "\n",
        "\n",
        "\n",
        "\n",
        "\n",
        "'''\n",
        "\n",
        "\n",
        "SimpleDirectoryReader = download_loader(\"SimpleDirectoryReader\")\n",
        "loader = SimpleDirectoryReader('database', recursive=True, exclude_hidden=True)\n",
        "page = str(loader.load_data())\n",
        "text_splitter = TokenTextSplitter(chunk_size=1000, chunk_overlap=0)\n",
        "pagess = text_splitter.split_text(page)\n",
        "\n",
        "\n",
        "\n",
        "merged_db = FAISS.from_documents([Document(page_content=\" \")], OpenAIEmbeddings(model=\"text-embedding-ada-002\"))\n",
        "\n",
        "search_indices = []\n",
        "for i, chunk in enumerate(pagess):\n",
        "    data = [Document(page_content=str(chunk))]\n",
        "    var_name = f\"search_index_{i}\"\n",
        "    locals()[var_name] = FAISS.from_documents(data, OpenAIEmbeddings(model=\"text-embedding-ada-002\"))\n",
        "    search_indices.append(locals()[var_name])\n",
        "    #merged_db.merge_from(locals()[var_name])\n",
        "\n",
        "\n",
        "for db in search_indices:\n",
        "    merged_db.merge_from(db)\n",
        "\n",
        "embeddings = OpenAIEmbeddings()\n",
        "with open(\"vectorstore.pkl\", \"wb\") as f:\n",
        "        pickle.dump(merged_db, f)\n",
        "\n",
        "\n",
        "with open(\"vectorstore.pkl\", \"rb\") as f:\n",
        "  vectorstore = pickle.load(f)\n",
        "\n",
        "while True:\n",
        "    query = input(\"Enter Prompt: \")\n",
        "    qa = ConversationalRetrievalChain.from_llm(AzureChatOpenAI(deployment_name=\"GPT35-Demo1\", model_name=\"gpt-35-turbo\", temperature=0), vectorstore.as_retriever())\n",
        "    response = qa({\"question\": query, \"chat_history\": \"\"})\n",
        "    print(response[\"answer\"])\n"
      ],
      "outputs": [
        {
          "output_type": "stream",
          "name": "stdout",
          "text": "USING API_BASE: \nhttps://gpt-demo1.openai.azure.com\nThe author name of cisco_brt is sriraguram.\n"
        },
        {
          "output_type": "stream",
          "name": "stderr",
          "text": "[nltk_data] Downloading package punkt to /home/azureuser/nltk_data...\n[nltk_data]   Package punkt is already up-to-date!\n[nltk_data] Downloading package averaged_perceptron_tagger to\n[nltk_data]     /home/azureuser/nltk_data...\n[nltk_data]   Package averaged_perceptron_tagger is already up-to-\n[nltk_data]       date!\nINFO:unstructured:Reading document from string ...\nINFO:unstructured:Reading document ...\n"
        }
      ],
      "execution_count": 56,
      "metadata": {
        "jupyter": {
          "source_hidden": false,
          "outputs_hidden": false
        },
        "nteract": {
          "transient": {
            "deleting": false
          }
        },
        "gather": {
          "logged": 1683030358588
        }
      }
    },
    {
      "cell_type": "code",
      "source": [
        "for i in pagess:\n",
        "    print('-----------------------------------------------')\n",
        "    print(i)"
      ],
      "outputs": [
        {
          "output_type": "stream",
          "name": "stdout",
          "text": "-----------------------------------------------\n[Document(text=\"HospitalID: 1004176\\nHospitalName: Malik Radix Health Care\\nGrammar: PRIMARY_DIAGNOSIS@[{'LOWER':'diagnosis'}];EXIT()@[{'TEXT':'PHYSICAL'},{'TEXT':'COMPLAINTS'}]::SECONDARY_DIAGNOSIS@[{'TEXT':'PHYSICAL'},{'TEXT':'COMPLAINTS'}];EXIT()@[{'TEXT':'CLINICAL'},{'TEXT':'EXAMINATION'}]::INVESTIGATIONS@[{'TEXT':'INVESTIGATION'}];EXIT()@[{'TEXT':'TREATMENT'},{'TEXT':'GIVEN'}]\", doc_id='f9dd6c2b-fa19-4247-8ee8-026a23e9ca9f', embedding=None, doc_hash='9a8aa99a5fb8760a1fe65f1a91f17540f7f121c857745079572a1cfc11d8ab89', extra_info=None), Document(text=\"HospitalID: 1264648\\nHospitalName: Pratiksha Hospital(North East Healthcare Pvt Ltd)\\nGrammar: DIAGNOSIS@[{'TEXT':'DIAGNOSIS'},{'IS_PUNCT':True}];EXIT()@[{'TEXT':'ON'},{'TEXT':'EXAMINATION'}]::SECONDARY_DIAGNOSIS@[{'TEXT':'PRESENTING'},{'TEXT':'COMPLAINTS'},{'IS_PUNCT':True}];EXIT()@[{'TEXT':'PAST'},{'TEXT':'HISTORY'}]::INVESTIGATIONS@[{'TEXT':'SIGNIFICANT'},{'TEXT':'FINDINGS'}];EXIT()@[{'TEXT':'DRUG'},{'TEXT':'ALLERGY'}]\", doc_id='110274ab-73da-41d4-8465-e57d17fe0ff7', embedding=None, doc_hash='247a39f01945f74cce6766cf588a607b25972360e869825c06ec3fa6d78d472a', extra_info=None), Document(text=\"HospitalID: 1401\\nHospitalName: Life Care Hospital Ltd\\nGrammar: DIAGNOSIS@[{'TEXT':'Diagnosis'},{'IS_PUNCT':True}];EXIT()@[{'TEXT':'Investigations'},{'IS_PUNCT':True}]\", doc_id='2b7bac2f-910b-423c-8be1-167cfa3d5051', embedding=None, doc_hash='cb35903c9caf3cd1e6cdf51ff6547a4b2f5939a75791e9ccea9e2896089668d8', extra_info=None), Document(text=\"HospitalID: 1255042\\nHospitalName: Rainbow Childrens Medicare Pvt Ltd\\nGrammar: DIAGNOSIS@[{'TEXT':'Diagnosis'},{'IS_PUNCT':True}];EXIT()@[{'TEXT':'Examination'},{'IS_PUNCT':True}]\", doc_id='b8f78dbb-a87e-4e6f-aea0-f10ba3db8beb', embedding=None, doc_hash='7ab85571907ed8d91decdffb2acf127e7f14ff171d22b42c2fba1e2cb174d006', extra_info=None), Document(text=\"HospitalID: 1303682\\nHospitalName: Kailash Hospital & Neuro Institute\\nGrammar: DIAGNOSIS@[{'TEXT':'Case'},{'TEXT':'Summary'},{'IS_PUNCT':True}];EXIT()@[{'IS_STOP':True},{'TEXT':'EXAMINATION'},{'IS_\n-----------------------------------------------\nPUNCT':True}]\", doc_id='1fd2d121-6a65-4eb5-9bb7-5de857ebe2f7', embedding=None, doc_hash='3445cae5be8ca6b4b73cb450c0ee52abd609b54aa7534475460ce3d8e115a9de', extra_info=None), Document(text=\"HospitalID: 1023024\\nHospitalName: Yashoda Super Speciality Hospital\\nGrammar: DIAGNOSIS@[{'TEXT':'FINAL'},{'TEXT':'DIAGNOSIS'},{'IS_PUNCT':True}];EXIT()@[{'TEXT':'ON'},{'TEXT':'EXAMINATION'},{'IS_PUNCT':True}]\", doc_id='69aa5d86-1017-4ba7-85e9-b55b5fa67462', embedding=None, doc_hash='d22c5a09d3affcb252a975768f572450fdb108a66fb7c8483ed23551ef38e7eb', extra_info=None), Document(text=\"HospitalID: 3177\\nHospitalName: Sarvodaya Hospital Research Centre\\nGrammar: DIAGNOSIS@[{'TEXT':'FINAL'},{'TEXT':'DIAGNOSIS'},{'IS_PUNCT':True}];EXIT()@[{'TEXT':'Examination'},{'TEXT':'Finding'},{'IS_STOP':True},{'TEXT':'Admission'},{'IS_PUNCT':True}]\", doc_id='90799ff8-c868-497a-8c98-8307f7828791', embedding=None, doc_hash='2e1cc5b20824c3ae782dd16f2000a0523554e84f8a88e75f404355424bf3495e', extra_info=None), Document(text=\"HospitalID: 1149299\\nHospitalName: Aastha Hospital & I.C.U.\\nGrammar: DIAGNOSIS@[{'TEXT':'Diagnosis'},{'IS_PUNCT':True}];EXIT()@[{'TEXT':'Investigation'},{'TEXT':'Detail'},{'IS_PUNCT':True}]\", doc_id='613c7d89-8bab-4b31-b7a0-2387e8a6fca7', embedding=None, doc_hash='0c35957cb878de2d898b161f5f3607c816adbf4f43ee77a2b8a919695547d60f', extra_info=None), Document(text=\"HospitalID: 1011222\\nHospitalName: SSB Central Hospital & Research Centre Limited\\nGrammar: DIAGNOSIS@[{'TEXT':'Diagnosis'}];DIAGNOSIS@[{'TEXT':'DIAGNOSIS'},{'TEXT':'WITH'},{'TEXT':'ICD'},{'TEXT':'CODE'}];EXIT()@[{'TEXT':'PRESENTING'},{'TEXT':'COMPLAINTS'}]\", doc_id='12ae279e-41b1-495a-8e3f-8a005f457422', embedding=None, doc_hash='69d6a16517c009e4896250d7f30162a51194801aaf634895b8cadcc4d1ca7313', extra_info=None), Document(text=\"HospitalID: 1232856\\nHospitalName: Yatharth Wellness & Trauma Center\\nGrammar: DIAGNOSIS@[{'TEXT':'DIAGNOSIS'}];DIAGNOSIS@[{'TEXT':'DIAGNOSIS'},{'TEXT':'WITH'},{'TEXT':'ICD'},{'TEXT':'CODE'}];EXIT()@[{'TEXT':'PRESENTING'},{'TEXT':'COMPLAINTS'\n-----------------------------------------------\n}]\", doc_id='407d2dad-82b5-41d4-a8ba-1a0311d41430', embedding=None, doc_hash='3ffccb39f289e9af8c365054818ced14d055c141e7f376cf40bb4331872bc98c', extra_info=None), Document(text=\"HospitalID: 1007982\\nHospitalName: Sarvodaya Hospital & Research Centre\\nGrammar: DIAGNOSIS@[{'TEXT':'DIAGNOSIS'}];DIAGNOSIS@[{'TEXT':'DIAGNOSIS'},{'TEXT':'WITH'},{'TEXT':'ICD'},{'TEXT':'CODE'}];EXIT()@[{'TEXT':'PRESENTING'},{'TEXT':'COMPLAINTS'}]\", doc_id='0b7bef8c-b68e-41f6-be3e-96a9ad8954bf', embedding=None, doc_hash='cc09e9963b9f239ded71d10dbfa9b639536747ca25fd67b0498ab244fb1107f1', extra_info=None), Document(text=\" \\n© 2023 Cisco and/or its affiliates . All rights reserved.  Page 1 of 15 Cisco Catalyst 9164 Series Access \\nPoints  Data sheet  \\nCisco public  \\nD \\n  \\n \\n© 2023 Cisco and/or its affiliates . All rights reserved.  Page 2 of 15 Contents  \\nSecure infrastructure  5 \\nCisco Meraki Cloud Management  5 \\nCisco DNA support  5 \\nProduct specifications  6 \\nLicensing  13 \\nWarranty information  13 \\nCisco environmental sustainability  13 \\nCisco Services  13 \\nSmart Account  13 \\nCisco Capital  14 \\nDocument history  15 \\n \\n© 2023 Cisco and/or its affiliates . All rights reserved.  Page 3 of 15 The Cisco Catalyst 9164 Series Access Poin ts (AP) allow you to choose between on -\\npremises and cloud management. They are the next -generation APs perfect for mission -\\ncritical deployments and support the new 6 -GHz band for Wi -Fi. It is resilient, secure, \\nand intelligent.  \\n \\n  Figure 1. \\nCatalyst 9164I access point  \\nWith the flexibility to choose between cloud - and on -premises management, the Catalyst 9164 Series Access \\nPoint ensures network investment protection and unlocks the power of hybrid work. The Wi -Fi 6E -compliant \\naccess point takes advantage of the 6 -GHz band expansion to produce a network that is more reliable and \\nsecure, with higher throughput, more capacity, and less device interference. The access points come with three \\n4x4 radios and provide a host of cutting -edge features.  \\nWith the industry’s lead ing network architecture (Catalyst) joining the industry’s leading cloud IT platform \\n(Meraki), this access point provides an unparalleled network experience. For organizations that need solutions \\nto power hybrid work, and that allow their people to work an ywhere at any given time with elevated, secure, \\nand connected experiences, the Cisco Catalyst 9164 Series Access Points are the best choice.  \\nOperational management is not static, as customers are able to change their network management whenever \\nthey want. If a network with Cisco Catalyst 9164 Series Access Points was originally an on -premises \\ndeployment, it can be changed to cloud -based management without the need to purchase and redistribute \\nadditional hardware.  \\nTable 1.  Catalyst 9164 Series features and benefits  \\nFeature  Benefits  \\nWi-Fi 6 and Wi-Fi 6E (802.11ax)  The IEEE 802.11ax standard, also known as High -Efficiency Wireless (HEW) or Wi -Fi 6, \\nbuilds on 802.11ac. It delivers a better experience in typical environments with more \\npredictable performance for advanced  applications such as 4K or 8K video ; high-\\ndensity, high -definition collaboration apps ; all-wireless offices ; and the Internet of \\nThings ( IoT). Wi-Fi 6E is Wi-Fi 6 “extended” into the 6 -GHz frequency band.  \\nAP power optimizations \\n(AP Power Save Mode)  AP Power optimizations\n-----------------------------------------------\n (AP Power save mode) allows the access point to reduce its \\npower consumption by e.g. shutting off radios during off -hours and weekends – whilst \\nstill being smart enough to re -engage all features should they be needed. This both \\nsaves po wer and reduces the carbon footprint of running a wireless network.  \\nCleanAir Pro  CleanAir Pro extends Cisco’s industry leading RF Interference detection and \\nclassification into the 6 GHz band.  \\n\\n \\n© 2023 Cisco and/or its affiliates . All rights reserved.  Page 4 of 15 Feature  Benefits  \\nBand steering  Enhanced to help clients that are 6 -GHz capab le to leave the 5 -GHz radio and connect \\nto the 6 -GHz one. Wi -Fi 6E clients are automatically directed to connect to the 6 -GHz \\nradio to take advantage of the benefits that it offers and free up the 2.4 - and 5 -GHz \\nradios for legacy clients.  \\nUplink/downlink OFDMA  Orthogonal Frequency -Division Multiple Access (OFDMA) -based scheduling splits the \\nbandwidth into smaller frequency allocations called Resource Units (RUs), which can \\nbe assigned to individual clients in both the downlink and uplink directions to redu ce \\noverhead and latency.  \\nUplink/downlink MU -MIMO \\ntechnology  Supporting the highest number with 12 spatial streams, multiuser multiple input, \\nmultiple output (MU -MIMO) enables the access points to split spatial streams between \\nclient devices to maximize th roughput.  \\nBSS coloring  Spatial reuse (also known as Basic Service Set [BSS] coloring) allows the access \\npoints and their clients to differentiate between BSSs, thus permitting more \\nsimultaneous transmissions.  \\nTarget Wake Time  Target Wake Time (TWT) allow s the client to stay asleep and to wake up only at \\nprescheduled (target) times to exchange data with the access point. This offers \\nsignificant energy savings for battery -operated devices, up to three to four times  the \\nsavings achieved by 802.11n and 802.11 ac. \\nIntelligent Capture  Intelligent Capture probes the network and provides Cisco DNA Center with deep \\nanalysis. The software can track more than 240 anomalies and instantaneously review \\nall packets on demand, emulating the onsite network administrator. Intelligent Capture \\nallows for more informed decisions on your wireless networks.  \\nApplication hosting  Application hosting helps simplify IoT deployments and ready them for the future by \\neliminating the need to install and manage overlay networks. Using  the USB interface, \\ncontainerized applications and hardware modules can be deployed to reduce cost and \\ncomplexity. Adding Cisco DNA Center provides workflows and deployment -wide \\napplication lifecycle management.  \\nBluetooth 5 .1 The i ntegrated Bluetooth Low En ergy (BLE) 5 .1 radio enables location -based use cases \\nsuch as asset tracking, wayfinding, and analytics.  \\nContainer support for \\napplications  Container support enables edge computing capabilities for IoT applications on the host \\naccess point.  \\nChoice of man agement mode  Cisco Catalyst 9164 Series Access Points can be managed either on -premises with \\nCatalyst 9800 Wireless Lan Controllers (WLC) or cloud -managed through the Meraki \\ndashboard. Customers have the flexibility to deploy these access points in one \\nmanagement mode  and shift to a different management mode  in the future.  \\nFor more details about Catalyst 9164 Series feature support, see Cisco's  Feature Matrix . \\n \\n© 2023 Cisco and/or its affiliates . All rights reserved.  Page 5 of 15 Secure infrastructure  \\nTrustworthy systems built with Cisco Trust Anchor Technologies  provide a highly secure foundation for \\nCisco products. With the Cisco Catalyst 9164 Access Points, these technologies enable assurance of hardware \\nand sof tware authenticity for supply chain trust and strong defense against man -in-the-middle attacks that \\ncompromise software and firmware. Trust Anchor capabilities include:  \\n● Image signing  \\n● Secure Boot  \\n● Cisco Trust Anchor module  \\nCisco Meraki Cloud Management  \\nPairing the Cisco Catalyst 9164  Series Access Points with the Meraki cloud platform gives organizations a \\nunified IT experience for network monitoring and management. The Meraki dashboard provides an intuitive and \\ninteractive web interface connecting your network to the industry’s leading cloud IT platform.\n-----------------------------------------------\n  \\nThrough the dashboard, Meraki provides sophisticated and scalable tools to automate network optimization, \\ndeploy policy and segmentation configurations across thousands of sites and devices, and manage a  full-stack \\nnetwork from SD -WAN to Access to IoT technologies. The platform supports over 3.5 million active networks \\naround the world.  \\nWorking together, the Catalyst 9164  Series and Cisco Meraki offer such features as:  \\n● Cisco Spaces  \\n● Cisco Identity Service s Engine  \\n● Meraki Health intelligent optimization and assurance  \\n● Meraki Vision, smart cameras, and sensors for network closet monitoring  \\nNote:   For information about Cisco Meraki, refer to https://meraki.cisco.com/p roducts/ . \\nCisco DNA support  \\nPairing the Cisco Catalyst 9164 Series Access Points with Cisco DNA allows for a total network transformation. \\nCisco DNA allows you to truly understand your network with real -time analytics, quickly detect and contain \\nsecurity threats, and easily provide networkwide consistency through automation and virtualization. The Cisco \\nCatalyst 9164 Series supports Software -Defined Access (SD -Access), Cisco’s leading enterprise architecture.  \\nWorking together, the Catalyst 9164 Series and Cisco DNA offer such features as:  \\n● Cisco Spaces  \\n● Cisco Identity Services Engine  \\n● Cisco DNA Analytics and Assurance along with Intelligence Capture (iCAP)  \\nThe result your network stays relevant, becomes digital ready, and is the lifeblood of your organization . \\nNote:   For information about Cisco DNA, refer to the Cisco DNA Solution Overview . \\n \\n© 2023 Cisco and/or its affiliates . All rights reserved.  Page 6 of 15 Product specificatio ns \\nTable 2.  Specifications  \\nItem  Specification  \\nPart numbers  Cisco Catalyst access points  \\n● CW9164I -x: Cisco Catalyst 9164 Series  \\nRegulatory domains: (x = regulatory domain)  \\nCustomers are responsible for verifying approval for use in their individual countries. To \\nverify approval and to identify the regulatory domain that corresponds to a particular \\ncountry, visit https://www.cisco.com/go/aironet/compliance . \\nNot all regulatory domains have been approved. As they are approved, the part numbers \\nwill be available on the Global Price List and/or regional price lists.  \\n● CW9164I -MR: Cisco Catalyst 9164 Series, w/Meraki  \\nCloud -managed version using Meraki Dashboard  \\nCisco wireless LAN services  \\n● For details on optional WLAN services, visit Services for Wirel ess and Mobility  \\nSoftware  Catalyst 9164 Series  \\n● Cisco IOS XE Software Release 17.9.1 or later  \\nSupported wireless LAN \\ncontrollers  ● Cisco Catalyst 9800 Series Wireless Controllers (physical or virtual)  \\n802.11n version 2.0 \\n(and  related) capabilities  ● 4x4 MIMO with four spatial streams  \\n● Maximal Ratio Combining (MRC)  \\n● 802.11n and 802.11a/g  \\n● 20- and 40 -MHz channels  \\n● PHY data rates up to 1.5 Gbps (40 MHz with 5 GHz and 20 MHz with 2.4 GHz)  \\n● Packet aggregation: Aggregate MAC Protocol Data Unit (A -MPDU) (transmit and receive), \\nAggregate MAC Service Data Unit (A -MSDU) (transmit and receive)  \\n● 802.11 Dynamic Frequency Selection (DFS)  \\n● Cyclic Shift Diversity (CSD) support  \\n802.11ac  ● 4x4 downlink MU -MIMO with four spatial streams  \\n● MRC  \\n● 802.11ac beamforming  \\n● 20-, 40-, 80-channels \\n● PHY data rates up to 1.73 Gbps (4x4 80 MHz on 5 GHz)  \\n● Packet aggregation: A -MPDU (transmit and receive), A -MSDU (transmit and receive)  \\n● 802.11 DFS  \\n● CSD support  \\n● Wi-Fi Protected Access (WPA) 3 support  \\n \\n© 2023 Cisco and/or its affiliates . All rights reserved.  Page 7 of 15 Item  Specification  \\n802.11ax  Catalyst 9164 Series  \\n● 4x\n-----------------------------------------------\n4 uplink/downlink MU-MIMO with four spatial streams (5 GHz and 6 GHz)  \\n●  2x2 uplink/downlink MU -MIMO with two spatial streams (2.4 GHz)  \\n● Uplink/downlink OFDMA  \\n● TWT \\n● BSS coloring  \\n● MRC  \\n● 802.11ax beamforming  \\n● 20-, 40-, 80-, and 160 -MHz channels (6 GHz)  \\n● 20-, 40-, 80-, channels (5 GHz)  \\n● 20-MHz channels (2.4 GHz)  \\n● PHY data rates up to 7.49 Gbps (4x4 160 MHz on 6 GHz, 4x4 80 MHz on 5 GHz, and 2x2 20 MHz on \\n2.4 GHz)  \\n● Packet aggregation: A -MPDU (transmit and receive), A -MSDU (transmit and receive)  \\n● 802.11 DFS  \\n● CSD support  \\n● WPA3 support  \\nIntegrated antenna  ● 2.4 GHz: Peak gain 3 dBi, internal antenna, omnidirectional in azimuth  \\n● 5 GHz: Peak gain 5 dBi, internal antenna, omnidirectional in azimuth  \\n● 6 GHz: Peak gain 4 dBi, internal antenna, omnidirectional in azimuth  \\nInterfaces  ●  1x 100M/1000M/2 .5G Multigigabit Ethernet (RJ -45)  \\n● Management console port (RJ -45) \\n● USB 2.0 at 4.5W  \\nIndicators  ● Status LED indicates boot loader status, association status, operating status, boot loader warnings, \\nand boot loader errors  \\nDimensions  \\n(W x L x H) ● Access point (without mounting brackets):  \\n◦ Catalyst  9164 Series: 9.5 x 9.5 x 2.2 in. (241.3 x 241.3 x 56.9 mm)  \\nWeight  Catalyst 9164 Series  \\n● 3.54 lb. (1.60 kg)  \\nInput power requirements  ● 802.3bt, Cisco Universal PoE (Cisco UPOE), 802.3at Power over Ethernet  Plus (PoE+)  \\n● Cisco power injectors: AIR -PWRINJ7=, AIR -PWRINJ6=, MA -INJ-6 \\n● 802.3af PoE (only for configuration staging, all radios off)  \\n● DC power input (54V/MA -PWR -50WAC)  \\n \\n© 2023 Cisco and/or its affiliates . All rights reserved.  Page 8 of 15 Item  Specification  \\n Catalyst 9164  \\nPoE power \\nconsumption  2.4-GHz \\nradio  5-GHz \\nradio  6-GHz \\nradio \\n(LPI)  Link speed  USB  Link Layer \\nDiscovery \\nProtocol \\n(LLDP)  \\n802.3bt (UPOE)  2x2 4x4 4x4 2.5G Y (4.5W)  30.0W  \\n802.3at (PoE+)  2x2 4x4 4x4 2.5G N 25.0W  \\n802.3af (PoE)  – – – 1G N 14.0W  \\nDC power  2x2 4x4 4x4 2.5G Y (4.5W)  30.0W  \\nNote:  Power required at the power source equipment (PSE) will depend on the cable length \\nand other environmental issues.  \\nEnvironmental  Catalyst 9164 Series  \\n● Nonoperating (storage) temperature: -22° to 158°F ( -30° to 70°C)  \\n● Nonoperating (storage) altitude test: 2 5°C (77°F) at 15,000 ft (4600 m)  \\n● Operating temperature: 32° to 122°F (0° to 50°C)  \\n● Operating humidity: 10% to 90% (noncondensing)  \\n● Operating altitude test: 40°C (104°F) at 9843 ft (3000 m)  \\nSystem memory  ● 2048 MB DRAM  \\n● 1024 MB flash  \\nWarranty  Limited\n-----------------------------------------------\n lifetime hardware warranty  (WARR -CW-LIFE-LTD) \\nAvailable transmit power \\nsettings  2.4 GHz  \\n● 23 dBm (200 mW)  \\n● -4 dBm (0.39 mW)  5 GHz  \\n● 23 dBm (200 mW)  \\n● -4 dBm (0.39 mW)  6 GHz  \\n● 23 dBm (200 mW)  \\n● -4 dBm (0.39 mW)  \\nNote:  In countries where use of the 6 -GHz \\nband is not allowed or there is no current \\nsoftware support, the 6 -GHz radio will be \\ndisabled. The radio may be enabled with \\nfuture software, once the product is certified \\nto operate at 6 GHz for that country.  \\nRegulatory domains  Note:  Customers are responsible for verifying approval for use in their individual countries. \\nTo verify approval and to identify the regulatory domain that corresponds to a particular \\ncountry, visit https://www.cisco.com/go/aironet/compliance . \\nFor information about regulatory domain support, refer to the Cisco Regulatory Domain \\nWhite Paper.   \\n \\n© 2023 Cisco and/or its affiliates . All rights reserved.  Page 9 of 15 Item  Specification  \\nCompliance standards  ● Safety:  \\n◦ IEC 60950 -1 / IEC 62368 -1 Ed.3 (with \\nEd.2 Deviation annex)  \\n◦ EN 60950 -1 / EN 62368 -1 Ed.3 (with Ed.2 \\nDeviation annex)  \\n◦ UL 60950 -1 / UL62368 -1 3rd (with Ed.2 \\nDeviation annex)  \\n◦ CAN/CSA -C22.2 No. 60950 -1 / \\nCAN/CSA -C22.2 No. 62368 -1 3rd (with \\nEd.2 Deviation annex)  \\n◦ AS/NZS60950.1 / AS/NZS62368.1 Ed.3 \\n(with Ed.2 Deviation annex)  \\n◦ UL 2043  \\n◦ Class III equipment  \\n● Emissions:  \\n◦ CISPR 32 (rev . 2015) +AMD1:2019  \\n◦ EN 55032:2015/A11:2020  \\n◦ EN IEC 61000 -3-2:2019/A1:2021  \\n◦ EN61000 -3-3:2013+A1:2019  \\n◦ AS/NZS CISPR32: 2015+AMD1:2020  \\n◦ 47 CFR FCC Part 15B  \\n◦ ICES-003 (Issue 7, Class B)  \\n◦ VCCI -CISPR 32:2016  \\n◦ CNS 13438:2006 (95)  \\n◦ KS C 9832:2019  \\n● Immunity:  \\n◦ EN 55035: 2017+A 11:2020  \\n◦ KS C 9835:2019  \\n● Emissions and immunity:  \\n◦ EN 301 489 -1 V2.2.3 (2019 -11) \\n◦ EN 301 489 -17 V3.2.4 (2020 -09)  \\n◦ QCVN 112:2017/BTTTT  \\n◦ KS X 3124:2020  \\n◦ KS X 3126:2020  \\n◦ EN 61000 -6-1: 2019  ● Radio:  \\n● EN 300 328 (v2.2.2)  \\n● EN 301 893 (v2.1.1)  \\n● EN 303 687 (v0.0.14, draft)  \\n● AS/NZS 4268 (rev. 2017)  \\n● 47 CFR FCC Part 15C, 15.247, 15.407  \\n● RSP-100 \\n● RSS-GEN \\n● RSS-247 \\n● LP002  \\n● Japan Std. 66, and Std. 71  \\n● RF safety:  \\n● EN 50385:2017  \\n● EN 62311:2020  \\n● AS/NZS 2772.2 (rev. 2016)  \\n● 47 CFR Part 2.1091  \\n● RSS-102 \\n● IEEE standards:\n-----------------------------------------------\n  \\n● IEEE 802.3  \\n● IEEE 802.3ab  \\n● IEEE 80 2.3af/at/bt  \\n● IEEE 802.11a/b/g/n/ac/ax  \\n● IEEE 802.11h, 802.11d  \\n● Security:  \\n◦ WPA2 -Personal (802.11i)  \\n◦ WPA2 -Enterprise with 802.1X  \\n◦ WPA3 -Personal, WPA3 -Enterprise  \\n◦ WPA3 -Enhanced Open (OWE)  \\n◦ Advanced Encryption Standard (AES)  \\n● Extensible Authentication Protocol (EAP) types:  \\n● EAP-Transport Layer Security (TLS)  \\n● EAP-Tunneled TLS (TTLS) or Microsoft Challenge \\nHandshake Authentication Protocol (MSCHAP) v2  \\n● Protected EAP (PEAP) v0 or EAP -MSCHAP v2  \\n● EAP-Flexible Authentication via Secure Tunneling \\n(EAP-FAST)  \\n● PEAP v1 or EAP -Gener ic Token Card (GTC)  \\n● EAP-Subscriber Identity Module (SIM)  \\nCertifications  ● Wi-Fi Alliance: Wi-Fi 6 (R2), Wi -Fi 6E, WPA3 -R3, WPA3 -Suite B, Enhanced Open Security  \\n● Bluetooth SIG: Bluetooth Low Energy  \\n \\n© 2023 Cisco and/or its affiliates . All rights reserved.  Page 10 of 15  \\n\\n \\n© 2023 Cisco and/or its affiliates . All rights reserved.  Page 11 of 15  \\n \\n \\n\\n \\n© 2023 Cisco and/or its affiliates . All rights reserved.  Page 12 of 15  \\n  Figure 2. \\nAntenna profiles  \\n\\n \\n© 2023 Cisco and/or its affiliates . All rights reserved.  Page 13 of 15 Licensing  \\nFor information about licensing and packaging, refer to Cisco Licensing . \\nWarranty information  \\nThe Cisco Catalyst  9164 Series Access Points come with a limited lifetime warranty that provides full warranty \\ncoverage of the hardware for as long as the original end user continues to own or use the product. The \\nwarranty includes 5 -day advance hardware replacement and hel ps ensure that software media are defect -free \\nfor 90 days. For more details, visit https://www.cisco.com/go/warranty . \\nCisco environmental sustainability  \\nInformation about Cisco’s environmental sustainabilit y policies and initiatives for our products, solutions, \\noperations, and extended operations or supply chain is provided in the “Environment Sustainability” section of \\nCisco’s  Corporate Social Responsibility  (CSR) Report.  \\nReference links to  information about key environmental sustainability topics  (mentioned in the “Environment \\nSustainability” section of the CSR Report) are provided in the following table:  \\nSustainability topic  Reference  \\nInformation on product material content laws and regulations  Materials  \\nInformation on electronic waste laws and regulations, including products, batteries, and packaging  WEEE compliance  \\nCisco makes the packaging data available for informational purposes only. It may not reflect the most current \\nlegal developments, and Cisco does not represent, warrant, or guarantee that it is complete, accurate, or up to \\ndate. This information  is subject to change without notice.  \\nCisco Services  \\nWith Cisco Services, you can achieve infrastructure excellence faster with less risk. From an initial WLAN \\nreadiness assessment to implementation, full solution support, and in -depth training, our servic es for the Cisco \\nCatalyst 9164 Series provide expert guidance to help you successfully plan, deploy, manage, and support your \\nnew access points. With unmatched networking expertise, best practices, and innovative tools, Cisco Services \\ncan help you reduce o verall upgrade, refresh, and migration costs as you introduce new hardware, software, \\nand protocols into the network. With a comprehensive lifecycle of services, Cisco experts will help you minimize \\ndisruption and improve operational efficiency to extract maximum value from your Cisco DNA -ready \\ninfrastructure.  \\nSmart Account  \\nCreating a Smart Account by using the Cisco Smart Software Manager (SSM) enables you to order devices and \\nlicensing packages and also manage\n-----------------------------------------------\n your software licenses from a centralized web site. For more information \\non Smart Accounts, refer to https://www.cisco.com/go/smartaccounts . \\n \\n© 2023 Cisco and/or its affiliates . All rights reserved.  Page 14 of 15 Cisco Capital  \\nFlexible payment solutions to help you achieve your objectives  \\nCisco Capital makes it easier  to get the right technology to achieve your objectives, enable business \\ntransformation, and help you stay competitive. We can help you reduce the total cost of ownership, conserve \\ncapital, and accelerate growth. In more than 100 countries, our flexible pa yment solutions can help you \\nacquire hardware, software, services, and complementary third -party equipment in easy, predictable \\npayments. Learn more . \\n \\n© 2023 Cisco and/or its affiliates . All rights reserved.  Page 15 of 15 Document history  \\nNew or Revised Topic  Described In  Date  \\nCisco DNA Spaces name change  Update d product name to Cisco Spaces  10/14/22 \\n \\n \\n \\n \\nPrinted in USA  C78-3012604 -02 01/23 \", doc_id='b6347438-a3d2-45a1-a5d0-3a1c7bf219a0', embedding=None, doc_hash='f4d36979d1c128760bb69eff67948b25f4b9560932e556aef358a77dae632464', extra_info=None), Document(text='Physicians’ Brain Digital Twin: Holistic Clinical & Biomedical Knowledge Graphs for Patient Safety and Value-Based Care to Prevent the Post-pandemic Healthcare Ecosystem Crisis\\n\\nAsoke K. Talukder10,11,\\n\\nErwin Selg12 &\\n\\nRoland E. Haas13\\n\\nConference paper\\n\\nFirst Online: 13 November 2022\\n\\n270 Accesses\\n\\n1 Citations\\n\\nPart of the Communications in Computer and Information Science book series (CCIS,volume 1686)\\n\\nAbstract\\n\\nThe ‘reading to cognition gaps’ and the ‘knowledge to action gaps’ for a physician or a care provider are the root causes of patient harm and the low- value healthcare. Rule-based symptom-checkers often fail when there are multiple co-occurring symptoms. To ensure patient safety and value-based care we have constructed nine AI-driven and evidence based interconnected holistic knowledge graphs covering the entire spectrum of medical knowledge starting from symptoms to therapeutics. These knowledge graphs are in fact the digital twin of all physicians’ brains. These nine knowledge graphs are Symptomatomics, Diseasomics, SNOMED CT, Disease-Gene Network, Multimorbidity, Resistomics, Patholomics, Oncolomics, and Drugomics. These knowledge graphs are constructed from semantic integration of biomedical ontologies like Disease Ontology, Symptom Ontology, Gene Ontology, Drug Ontology, NCI Thesaurus, DisGenomics Network, PharmGKB, ChEBI, WHO AWaRe, and WHOCC. This is further enhanced through thematic integration of the knowledge mined from PubMed, DailyMed, FAERS, Wikipedia and patient data (EHR) from hospitals and cancer registry. These knowledge graphs are interconnected through common vocabularies like SNOMED CT, ICD10, ICDO, UMLS, NCIT, DOID, HGNC, GO, LOINC, ATC, RXCUI, and RxNORM codes that helped us to construct a complete clinical, medical, therapeutic, and conflicting medication knowledge graph with 723,801 nodes and 10,657,694 edges. This knowledge graph is stored in a Neo4j property graph database which is deployed in the cloud accessible 24×7 through REST/JSON-RPC and AIoT API. On top of this integrated knowledge graph we used node2vec to construct digital triplet discovering many unknown and hidden knowledge. This integrated clinical & biomedical knowledge functions as the digital twin of all physicians’ brains.\\n\\nKeywords\\n\\nPhysicians’ brain digital twin\\n\\nDigital triplet\\n\\nSymptomatomics\\n\\nDiseasomics\\n\\nResistomics\\n\\nPatholomics\\n\\nDisGenomics\\n\\nOncolomics\\n\\nDrugomics\\n\\nKnowledge graph\\n\\nHealthcare ecosystem crisis\\n\\nPatient safety\\n\\\n-----------------------------------------------\nnThis is a preview of subscription content, access via your institution.\\n\\nBuying options\\n\\nEUR 29.95\\n\\nPrice includes VAT (India)\\n\\nDOI: 10.1007/978-3-031-21422-6_3\\n\\nChapter length: 15 pages\\n\\nInstant PDF download\\n\\nReadable on all devices\\n\\nOwn it forever\\n\\nExclusive offer for individuals only\\n\\nTax calculation will be finalised during checkout\\n\\nEUR 64.19\\n\\nPrice includes VAT (India)\\n\\nISBN: 978-3-031-21422-6\\n\\nInstant EPUB and PDF download\\n\\nReadable on all devices\\n\\nOwn it forever\\n\\nExclusive offer for individuals only\\n\\nTax calculation will be finalised during checkout\\n\\nEUR 74.99\\n\\nPrice excludes VAT (India)\\n\\nISBN: 978-3-031-21421-9\\n\\nDispatched in 3 to 5 business days\\n\\nExclusive offer for individuals only\\n\\nFree shipping worldwideSee shipping information.\\n\\nTax calculation will be finalised during checkout\\n\\nLearn about institutional subscriptions\\n\\nReferences\\n\\nLow Value Care. https://vbidcenter.org/initiatives/low-value-care/#:~:text=Low%2Dvalue%20care%20can%20be,annually%20in%20wasteful%20health%20spending\\n\\nThe Learning Healthcare System. IOM. https://www.ncbi.nlm.nih.gov/books/NBK53494/ (2006)\\n\\nSrirama, S.N., Lin, J.-W., Bhatnagar, R., Agarwal, S., Reddy, P.K. (eds.): BDA 2021. LNCS, vol. 13147. Springer, Cham (2021). https://doi.org/10.1007/978-3-030-93620-4CrossRef Google Scholar\\n\\nTo Err is Human: Building a Safer Health System. IOM. https://pubmed.ncbi.nlm.nih.gov/25077248/ (2000)\\n\\nMakary, M.A., Daniel, M.: Medical error—the third leading cause of death in the US BMJ 2016;353:i2139. https://www.bmj.com/content/353/bmj.i2139 (2016)\\n\\nPreventable Adverse Drug Reactions: A Focus on Drug Interactions. https://www.fda.gov/drugs/drug-interactions-labeling/preventable-adverse-drug-reactions-focus-drug-interactions\\n\\nPatient Safety in Healthcare, Forecast to 2022. https://store.frost.com/patient-safety-in-healthcare-forecast-to-2022.html\\n\\nAmericas report surge in drug-resistant infections due to misuse of antimicrobials during pandemic. https://www.paho.org/en/news/17-11-2021-americas-report-surge-drug-resistant-infections-due-misuse-antimicrobials-during (2021)\\n\\nCOVID-19 aggravates antibiotic misuse in India. https://medicine.wustl.edu/news/covid-19-aggravates-antibiotic-misuse-in-india/#:~:text=After%20statistically%20adjusting%20for%20seasonality,period%20of%20peak%20COVID%2D19 (2021)\\n\\nO’Neill, J.: (Chair). Antimicrobial resistance: tackling a crisis for the health and wealth of nations. https://amr-review.org/sites/default/files/AMR%20Review%20Paper%20-%20Tackling%20a%20crisis%20for%20the%20health%20and%20wealth%20of%20nations_1.pdf (2014)\\n\\nWorld Health Organization, Noncommunicable Diseases (2021). https://www.who.int/news-room/fact-sheets/detail/noncommunicable-diseases\\n\\nDiabetics make up 40% of COVID deaths in US, experts\n-----------------------------------------------\n say: https://nypost.com/2021/07/16/diabetics-make-up-40-of-covid-deaths-in-us-experts-say/amp/\\n\\nWorld’s older population grows dramatically. https://www.nih.gov/news-events/news-releases/worlds-older-population-grows-dramatically\\n\\nMedical knowledge doubles every few months; how can clinicians keep up?. https://www.elsevier.com/connect/medical-knowledge-doubles-every-few-months-how-can-clinicians-keep-up (2018)\\n\\nThe answer is 17 years, what is the question: understanding time lags in translational research. https://www.ncbi.nlm.nih.gov/pmc/articles/PMC3241518/ (2011)\\n\\nCovid-19: Antimicrobial misuse in Americas sees drug resistant infections surge, says WHO. https://www.bmj.com/content/375/bmj.n2845 (2021)\\n\\nHou, H., et al.: Factors Associated with Turnover Intention Among Healthcare Workers During the Coronavirus Disease 2019 (COVID-19) Pandemic in China. https://www.dovepress.com/factors-associated-with-turnover-intention-among-healthcare-workers-du-peer-reviewed-fulltext-article-RMHP (2021)\\n\\nTalukder, A.K., Haas, R.E.: Oncolomics: digital twins & digital triplets in cancer care. In: 7th Computational Approaches for Cancer Workshop (CAFCW21), Supercomputing Conference (SC21). https://sc21.supercomputing.org/presentation/?id=ws_cafcw103&sess=sess434 (2021)\\n\\nJensen, A., Moseley, P., Oprea, T., et al.: Temporal disease trajectories condensed from population-wide registry data covering 6.2 million patients. Nat Commun 5 (2014). https://doi.org/10.1038/ncomms5022\\n\\nSurveillance, Epidemiology, and End Results https://seer.cancer.gov/data/\\n\\nTalukder, A.K., Schriml, L., Ghosh, A., Biswas, R., Chakrabarti, P., Haas, R.E.: Diseasomics: actionable machine interpretable disease knowledge at the point-of-care. PLoS Digit. Health 1(10), e0000128 (2022). https://doi.org/10.1371/journal.pdig.0000128CrossRef Google Scholar\\n\\nCampbell, W.S., Pedersen, J., McClay, J.C., Rao, P., Bastola, D., Campbell, J.R.: An alternative database approach for management of SNOMED CT and improved patient data queries. J. Biomed. Inform. https://doi.org/10.1016/j.jbi.2015.08.016. https://www.sciencedirect.com/science/article/pii/S1532046415001847 (2015)\\n\\nDisGeNET: https://www.disgenet.org/\\n\\nTalukder, A.K., Sanz, J.B., Samajpati, J.: ‘Precision health’: balancing reactive care and proactive care through the evidence based knowledge graph constructed from real-world electronic health records, disease trajectories, diseasome, and patholome. Springer, Cham, LNCS 12581. https://www.springerprofessional.de/en/precision-health-balancing-reactive-care-and-proactive-care-thro/18718294 (2020)\\n\\nTalukder, A.K., Chakrabarti, P., Chaudhuri, B.N., Sethi, T., Lodha, R., Haas, R.E.: 2AI&7D model of resistomics to counter the accelerating antibiotic resistance and the medical climate crisis. In: Big Data Analytics 2021. Springer, Cham, LNCS, volume 13147. https://www.springerprofessional.de/2ai-7d-model-of-resistomics-to-counter-the-accelerating-antibiot/19984472 (2021)\\n\\nNeo4j Graph database: https://neo4j.com/\\n\n-----------------------------------------------\n\\nIrving, G., Neves, A.L., Dambha-Miller, H., et al.: International variations in primary care physician consultation time: a systematic review of 67 countries. BMJ Open 2017, 7: e017902. https://doi.org/10.1136/bmjopen-2017-017902. https://bmjopen.bmj.com/content/7/10/e017902 (2017)\\n\\nGrover, A., Leskovec, J.: node2vec: scalable feature learning for networks. In: KDD ‘16: Proceedings of the 22nd ACM SIGKDD International Conference on Knowledge Discovery and Data Mining. August 2016, pp. 855–864. https://doi.org/10.1145/2939672.2939754 (2016)\\n\\nHGNC: https://www.genenames.org/\\n\\nDrugs@FDA: FDA-Approved Drugs. https://www.accessdata.fda.gov/scripts/cder/daf/index.cfm\\n\\nFDA Adverse Event Reporting System (FAERS) Public Dashboard. https://www.fda.gov/drugs/questions-and-answers-fdas-adverse-event-reporting-system-faers/fda-adverse-event-reporting-system-faers-public-dashboard\\n\\nTalukder, A.K., Haas, R E.: AIoT: AI meets IoT and Web in Smart Healthcare. (2021). https://dl.acm.org/doi/fullHtml/10.1145/3462741.3466650\\n\\nUnified Medical Language System (UMLS): https://www.nlm.nih.gov/research/umls/knowledge_sources/metathesaurus/index.html\\n\\nKim, S., et al.: Patient safety over power hierarchy: a scoping review of healthcare professionals’ speaking-up skills training. https://pubmed.ncbi.nlm.nih.gov/32149868/ (2020)\\n\\n50 years of the inverse care law. The Lancet Editorial 2021. https://doi.org/10.1016/S0140-6736(21)00505-5. https://www.thelancet.com/journals/lancet/article/PIIS0140-6736(21)00505-5/fulltext\\n\\nDownload references\\n\\nAuthor information\\n\\nAuthors and Affiliations\\n\\nSRIT, 113/1B ITPL Road, Brookfield, Bangalore, 560037, IndiaAsoke K. Talukder\\n\\nNational Institute of Technology Karnataka, Surathkal, IndiaAsoke K. Talukder\\n\\nSRH Fernhochschule GmbH, Kirchstraße 26, 88499, Riedlingen, GermanyErwin Selg\\n\\nIIITB, 26/C, Electronics City, Hosur Road, Bangalore, 560100, IndiaRoland E. Haas\\n\\nAuthors\\n\\nAsoke K. TalukderView author publicationsYou can also search for this author in PubMed Google Scholar\\n\\nErwin SelgView author publicationsYou can also search for this author in PubMed Google Scholar\\n\\nRoland E. HaasView author publicationsYou can also search for this author in PubMed Google Scholar\\n\\nCorresponding author\\n\\nCorrespondence to Asoke K. Talukder .\\n\\nEditor information\\n\\nEditors and Affiliations\\n\\nEY wavespace/UNIR, Madrid, SpainBoris Villazón-Terrazas\\n\\nAutonomous University of Tamaulipas, Ciudad Victoria, MexicoFernando Ortiz-Rodriguez\\n\\nAutonomous University of Tamaulipas, Ciudad Victoria, MexicoSanju Tiwari\\n\\nUniversity of Alcalá, Alcalá de Henares, SpainMiguel-Angel Sicilia\\n\\nUniversidad Camilo José Cela, Madrid, SpainDavid Martín-Moncunill\\n\\nRights and permissions\\n\\nReprints and Permissions\\n\\nCopyright information\\n\\n© 2022 The Author(s), under exclusive license to Springer Nature Switzerland AG\\n\\nAbout this paper\\n\\nCite this paper\\n\\nTal\n-----------------------------------------------\nukder, A.K., Selg, E., Haas, R.E. (2022). Physicians’ Brain Digital Twin: Holistic Clinical & Biomedical Knowledge Graphs for Patient Safety and Value-Based Care to Prevent the Post-pandemic Healthcare Ecosystem Crisis. In: Villazón-Terrazas, B., Ortiz-Rodriguez, F., Tiwari, S., Sicilia, MA., Martín-Moncunill, D. (eds) Knowledge Graphs and Semantic Web . KGSWC 2022. Communications in Computer and Information Science, vol 1686. Springer, Cham. https://doi.org/10.1007/978-3-031-21422-6_3\\n\\nDownload citation\\n\\n.RIS\\n\\n.ENW\\n\\n.BIB\\n\\nDOI: https://doi.org/10.1007/978-3-031-21422-6_3\\n\\nPublished: 13 November 2022\\n\\nPublisher Name: Springer, Cham\\n\\nPrint ISBN: 978-3-031-21421-9\\n\\nOnline ISBN: 978-3-031-21422-6\\n\\neBook Packages: Computer ScienceComputer Science (R0)\\n\\nShare this paper\\n\\nAnyone you share the following link with will be able to read this content:\\n\\nSorry, a shareable link is not currently available for this article.\\n\\nProvided by the Springer Nature SharedIt content-sharing initiative', doc_id='7c14825a-b33d-4b20-ab46-55273c695729', embedding=None, doc_hash='f84e9ab4ee92d330d803d7df2c52084a51eef66344d8c8134da2d3a3c2b02be3', extra_info=None), Document(text='The Cisco Catalyst 9164 Series Access Points (AP) allow you to choose between on- \\npremises and cloud management. They are the next-generation APs perfect for mission- \\ncritical deployments and support the new 6-GHz band for Wi-Fi. It is resilient, secure, and intelligent. \\nFigure 1. \\nCatalyst 9164I access point With the flexibility to choose between cloud- and on-premises management, the Catalyst 9164 Series Access \\nPoint ensures network investment protection and unlocks the power of hybrid work. The Wi-Fi 6E-compliant \\naccess point takes advantage of the 6-GHz band expansion to produce a network that is more reliable and \\nsecure, with higher throughput, more capacity, and less device interference. The access points come with three \\n4x4 radios and provide a host of cutting-edge features. \\nWith the industry’s leading network architecture (Catalyst) joining the industry’s leading cloud IT platform \\n(Meraki), this access point provides an unparalleled network experience. For organizations that need solutions \\nto power hybrid work, and that allow their people to work anywhere at any given time with elevated, secure,and connected experiences, the Cisco Catalyst 9164 Series Access Points are the best choice. \\nOperational management is not static, as customers are able to change their network management whenever \\nthey want. If a network with Cisco Catalyst 9164 Series Access Points was originally an on-premises \\ndeployment, it can be changed to cloud-based management without the need to purchase and redistribute additional hardware. ', doc_id='332bad8f-40c2-4c2e-a479-7f941f0238f0', embedding=None, doc_hash='b94b4b7f4741707d6e97aa297983197af3e32abb860d87b4907d396c2fdcca69', extra_info=None), Document(text='The Cisco Catalyst 9164 Series Access Points (AP) allow you to choose between on- \\npremises and cloud management. They are the next-generation APs perfect for mission- \\ncritical deployments and support the new 6-GHz band for Wi-Fi. It is resilient, secure, and intelligent. \\nFigure 1. \\nCatalyst 9164I access point With the flexibility to choose between cloud- and on-premises management, the Catalyst 9164 Series Access \\nPoint ensures network investment protection and unlocks the power of hybrid work. The Wi-Fi 6E-compliant \\naccess point takes advantage of the 6-GHz band expansion to produce a network that is more reliable and \\n\n-----------------------------------------------\nsecure, with higher throughput, more capacity, and less device interference. The access points come with three \\n4x4 radios and provide a host of cutting-edge features. \\nWith the industry’s leading network architecture (Catalyst) joining the industry’s leading cloud IT platform \\n(Meraki), this access point provides an unparalleled network experience. For organizations that need solutions \\nto power hybrid work, and that allow their people to work anywhere at any given time with elevated, secure,and connected experiences, the Cisco Catalyst 9164 Series Access Points are the best choice. \\nOperational management is not static, as customers are able to change their network management whenever \\nthey want. If a network with Cisco Catalyst 9164 Series Access Points was originally an on-premises \\ndeployment, it can be changed to cloud-based management without the need to purchase and redistribute additional hardware. ', doc_id='ba46939e-9060-4704-8015-a54b533075a0', embedding=None, doc_hash='b94b4b7f4741707d6e97aa297983197af3e32abb860d87b4907d396c2fdcca69', extra_info=None)]\n"
        }
      ],
      "execution_count": 53,
      "metadata": {
        "jupyter": {
          "source_hidden": false,
          "outputs_hidden": false
        },
        "nteract": {
          "transient": {
            "deleting": false
          }
        },
        "gather": {
          "logged": 1683029879014
        }
      }
    }
  ],
  "metadata": {
    "kernelspec": {
      "name": "python38-azureml",
      "language": "python",
      "display_name": "Python 3.8 - AzureML"
    },
    "language_info": {
      "name": "python",
      "version": "3.8.5",
      "mimetype": "text/x-python",
      "codemirror_mode": {
        "name": "ipython",
        "version": 3
      },
      "pygments_lexer": "ipython3",
      "nbconvert_exporter": "python",
      "file_extension": ".py"
    },
    "microsoft": {
      "ms_spell_check": {
        "ms_spell_check_language": "en"
      },
      "host": {
        "AzureML": {
          "notebookHasBeenCompleted": true
        }
      }
    },
    "kernel_info": {
      "name": "python38-azureml"
    },
    "nteract": {
      "version": "nteract-front-end@1.0.0"
    }
  },
  "nbformat": 4,
  "nbformat_minor": 2
}